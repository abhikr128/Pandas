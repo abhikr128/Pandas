{
 "cells": [
  {
   "cell_type": "markdown",
   "id": "b8291ec0",
   "metadata": {},
   "source": [
    "Import pandas"
   ]
  },
  {
   "cell_type": "code",
   "execution_count": 1,
   "id": "d2768640",
   "metadata": {},
   "outputs": [],
   "source": [
    "import pandas as pd"
   ]
  },
  {
   "cell_type": "markdown",
   "id": "5a66040f",
   "metadata": {},
   "source": [
    "Create a DatetimeIndex with 3 different timestamps and assign it to a variable called `dates`"
   ]
  },
  {
   "cell_type": "code",
   "execution_count": 2,
   "id": "2ed8fb3e",
   "metadata": {},
   "outputs": [
    {
     "data": {
      "text/plain": [
       "DatetimeIndex(['1998-08-12', '2000-06-20', '2002-10-15'], dtype='datetime64[ns]', freq=None)"
      ]
     },
     "execution_count": 2,
     "metadata": {},
     "output_type": "execute_result"
    }
   ],
   "source": [
    "dates = pd.to_datetime(['1998-8-12', '2000-6-20', '2002-10-15'])\n",
    "dates"
   ]
  },
  {
   "cell_type": "markdown",
   "id": "9e1e8aec",
   "metadata": {},
   "source": [
    "Find the time between each one of these dates"
   ]
  },
  {
   "cell_type": "code",
   "execution_count": 3,
   "id": "f8dbc1de",
   "metadata": {},
   "outputs": [
    {
     "data": {
      "text/plain": [
       "1998-08-12        NaT\n",
       "2000-06-20   678 days\n",
       "2002-10-15   847 days\n",
       "dtype: timedelta64[ns]"
      ]
     },
     "execution_count": 3,
     "metadata": {},
     "output_type": "execute_result"
    }
   ],
   "source": [
    "dates.to_series().diff()"
   ]
  },
  {
   "cell_type": "markdown",
   "id": "58eb0c7a",
   "metadata": {},
   "source": [
    "Create a DataFrame with the `dates` as the index and add 3 new columns that hold the day name, month name, and the year."
   ]
  },
  {
   "cell_type": "code",
   "execution_count": 4,
   "id": "2bba0454",
   "metadata": {},
   "outputs": [
    {
     "data": {
      "text/html": [
       "<div>\n",
       "<style scoped>\n",
       "    .dataframe tbody tr th:only-of-type {\n",
       "        vertical-align: middle;\n",
       "    }\n",
       "\n",
       "    .dataframe tbody tr th {\n",
       "        vertical-align: top;\n",
       "    }\n",
       "\n",
       "    .dataframe thead th {\n",
       "        text-align: right;\n",
       "    }\n",
       "</style>\n",
       "<table border=\"1\" class=\"dataframe\">\n",
       "  <thead>\n",
       "    <tr style=\"text-align: right;\">\n",
       "      <th></th>\n",
       "      <th>Day</th>\n",
       "      <th>Month</th>\n",
       "      <th>Year</th>\n",
       "    </tr>\n",
       "  </thead>\n",
       "  <tbody>\n",
       "    <tr>\n",
       "      <th>1998-08-12</th>\n",
       "      <td>Wednesday</td>\n",
       "      <td>August</td>\n",
       "      <td>1998</td>\n",
       "    </tr>\n",
       "    <tr>\n",
       "      <th>2000-06-20</th>\n",
       "      <td>Tuesday</td>\n",
       "      <td>June</td>\n",
       "      <td>2000</td>\n",
       "    </tr>\n",
       "    <tr>\n",
       "      <th>2002-10-15</th>\n",
       "      <td>Tuesday</td>\n",
       "      <td>October</td>\n",
       "      <td>2002</td>\n",
       "    </tr>\n",
       "  </tbody>\n",
       "</table>\n",
       "</div>"
      ],
      "text/plain": [
       "                  Day    Month  Year\n",
       "1998-08-12  Wednesday   August  1998\n",
       "2000-06-20    Tuesday     June  2000\n",
       "2002-10-15    Tuesday  October  2002"
      ]
     },
     "execution_count": 4,
     "metadata": {},
     "output_type": "execute_result"
    }
   ],
   "source": [
    "df = pd.DataFrame(index=dates, columns=['Day', 'Month', 'Year'])\n",
    "df['Day'] = dates.day_name()\n",
    "df['Month'] = dates.month_name()\n",
    "df['Year'] = dates.year\n",
    "df"
   ]
  },
  {
   "cell_type": "markdown",
   "id": "abfbc94e",
   "metadata": {},
   "source": [
    "Fill in the gaps of our DataFrame with every missing date (between our 3 dates), and make sure there are no NaNs"
   ]
  },
  {
   "cell_type": "code",
   "execution_count": 5,
   "id": "d26c2652",
   "metadata": {},
   "outputs": [
    {
     "data": {
      "text/plain": [
       "DatetimeIndex(['1998-08-12', '1998-08-13', '1998-08-14', '1998-08-15',\n",
       "               '1998-08-16', '1998-08-17', '1998-08-18', '1998-08-19',\n",
       "               '1998-08-20', '1998-08-21',\n",
       "               ...\n",
       "               '2002-10-06', '2002-10-07', '2002-10-08', '2002-10-09',\n",
       "               '2002-10-10', '2002-10-11', '2002-10-12', '2002-10-13',\n",
       "               '2002-10-14', '2002-10-15'],\n",
       "              dtype='datetime64[ns]', length=1526, freq='D')"
      ]
     },
     "execution_count": 5,
     "metadata": {},
     "output_type": "execute_result"
    }
   ],
   "source": [
    "start_date = df.index.min()\n",
    "end_date = df.index.max()\n",
    "\n",
    "new_dates = pd.date_range(start=start_date, end=end_date, freq='D')\n",
    "new_dates"
   ]
  },
  {
   "cell_type": "code",
   "execution_count": 6,
   "id": "244ac007",
   "metadata": {},
   "outputs": [
    {
     "data": {
      "text/html": [
       "<div>\n",
       "<style scoped>\n",
       "    .dataframe tbody tr th:only-of-type {\n",
       "        vertical-align: middle;\n",
       "    }\n",
       "\n",
       "    .dataframe tbody tr th {\n",
       "        vertical-align: top;\n",
       "    }\n",
       "\n",
       "    .dataframe thead th {\n",
       "        text-align: right;\n",
       "    }\n",
       "</style>\n",
       "<table border=\"1\" class=\"dataframe\">\n",
       "  <thead>\n",
       "    <tr style=\"text-align: right;\">\n",
       "      <th></th>\n",
       "      <th>Day</th>\n",
       "      <th>Month</th>\n",
       "      <th>Year</th>\n",
       "    </tr>\n",
       "  </thead>\n",
       "  <tbody>\n",
       "    <tr>\n",
       "      <th>1998-08-12</th>\n",
       "      <td>Wednesday</td>\n",
       "      <td>August</td>\n",
       "      <td>1998</td>\n",
       "    </tr>\n",
       "    <tr>\n",
       "      <th>1998-08-13</th>\n",
       "      <td>Thursday</td>\n",
       "      <td>August</td>\n",
       "      <td>1998</td>\n",
       "    </tr>\n",
       "    <tr>\n",
       "      <th>1998-08-14</th>\n",
       "      <td>Friday</td>\n",
       "      <td>August</td>\n",
       "      <td>1998</td>\n",
       "    </tr>\n",
       "    <tr>\n",
       "      <th>1998-08-15</th>\n",
       "      <td>Saturday</td>\n",
       "      <td>August</td>\n",
       "      <td>1998</td>\n",
       "    </tr>\n",
       "    <tr>\n",
       "      <th>1998-08-16</th>\n",
       "      <td>Sunday</td>\n",
       "      <td>August</td>\n",
       "      <td>1998</td>\n",
       "    </tr>\n",
       "    <tr>\n",
       "      <th>...</th>\n",
       "      <td>...</td>\n",
       "      <td>...</td>\n",
       "      <td>...</td>\n",
       "    </tr>\n",
       "    <tr>\n",
       "      <th>2002-10-11</th>\n",
       "      <td>Friday</td>\n",
       "      <td>October</td>\n",
       "      <td>2002</td>\n",
       "    </tr>\n",
       "    <tr>\n",
       "      <th>2002-10-12</th>\n",
       "      <td>Saturday</td>\n",
       "      <td>October</td>\n",
       "      <td>2002</td>\n",
       "    </tr>\n",
       "    <tr>\n",
       "      <th>2002-10-13</th>\n",
       "      <td>Sunday</td>\n",
       "      <td>October</td>\n",
       "      <td>2002</td>\n",
       "    </tr>\n",
       "    <tr>\n",
       "      <th>2002-10-14</th>\n",
       "      <td>Monday</td>\n",
       "      <td>October</td>\n",
       "      <td>2002</td>\n",
       "    </tr>\n",
       "    <tr>\n",
       "      <th>2002-10-15</th>\n",
       "      <td>Tuesday</td>\n",
       "      <td>October</td>\n",
       "      <td>2002</td>\n",
       "    </tr>\n",
       "  </tbody>\n",
       "</table>\n",
       "<p>1526 rows × 3 columns</p>\n",
       "</div>"
      ],
      "text/plain": [
       "                  Day    Month  Year\n",
       "1998-08-12  Wednesday   August  1998\n",
       "1998-08-13   Thursday   August  1998\n",
       "1998-08-14     Friday   August  1998\n",
       "1998-08-15   Saturday   August  1998\n",
       "1998-08-16     Sunday   August  1998\n",
       "...               ...      ...   ...\n",
       "2002-10-11     Friday  October  2002\n",
       "2002-10-12   Saturday  October  2002\n",
       "2002-10-13     Sunday  October  2002\n",
       "2002-10-14     Monday  October  2002\n",
       "2002-10-15    Tuesday  October  2002\n",
       "\n",
       "[1526 rows x 3 columns]"
      ]
     },
     "execution_count": 6,
     "metadata": {},
     "output_type": "execute_result"
    }
   ],
   "source": [
    "df = df.reindex(new_dates)\n",
    "df['Day'] = df.index.day_name()\n",
    "df['Month'] = df.index.month_name()\n",
    "df['Year'] = df.index.year\n",
    "\n",
    "df"
   ]
  },
  {
   "cell_type": "markdown",
   "id": "157fb1e4",
   "metadata": {},
   "source": [
    "Convert our DatetimeIndex to a PeriodIndex which represents a whole day per date."
   ]
  },
  {
   "cell_type": "code",
   "execution_count": 7,
   "id": "ff3b486f",
   "metadata": {},
   "outputs": [
    {
     "data": {
      "text/plain": [
       "PeriodIndex(['1998-08-12', '1998-08-13', '1998-08-14', '1998-08-15',\n",
       "             '1998-08-16', '1998-08-17', '1998-08-18', '1998-08-19',\n",
       "             '1998-08-20', '1998-08-21',\n",
       "             ...\n",
       "             '2002-10-06', '2002-10-07', '2002-10-08', '2002-10-09',\n",
       "             '2002-10-10', '2002-10-11', '2002-10-12', '2002-10-13',\n",
       "             '2002-10-14', '2002-10-15'],\n",
       "            dtype='period[D]', length=1526)"
      ]
     },
     "execution_count": 7,
     "metadata": {},
     "output_type": "execute_result"
    }
   ],
   "source": [
    "df = df.to_period('d')\n",
    "df.index"
   ]
  },
  {
   "cell_type": "code",
   "execution_count": null,
   "id": "d4dcea4b",
   "metadata": {},
   "outputs": [],
   "source": []
  }
 ],
 "metadata": {
  "kernelspec": {
   "display_name": "venv",
   "language": "python",
   "name": "python3"
  },
  "language_info": {
   "codemirror_mode": {
    "name": "ipython",
    "version": 3
   },
   "file_extension": ".py",
   "mimetype": "text/x-python",
   "name": "python",
   "nbconvert_exporter": "python",
   "pygments_lexer": "ipython3",
   "version": "3.12.5"
  }
 },
 "nbformat": 4,
 "nbformat_minor": 5
}
