{
 "cells": [
  {
   "cell_type": "markdown",
   "id": "a1cb3bf4",
   "metadata": {},
   "source": [
    "## Timestamp and DatetimeIndex"
   ]
  },
  {
   "cell_type": "code",
   "execution_count": 3,
   "id": "7d4b9fb9",
   "metadata": {},
   "outputs": [],
   "source": [
    "import pandas as pd"
   ]
  },
  {
   "cell_type": "markdown",
   "id": "46b34811",
   "metadata": {},
   "source": [
    "#### Timestamp represents a single instant in time"
   ]
  },
  {
   "cell_type": "code",
   "execution_count": 4,
   "id": "0b311175",
   "metadata": {},
   "outputs": [
    {
     "data": {
      "text/plain": [
       "Timestamp('1998-08-12 00:00:00')"
      ]
     },
     "execution_count": 4,
     "metadata": {},
     "output_type": "execute_result"
    }
   ],
   "source": [
    "pd.Timestamp('1998/8/12')     # Crteating a timestamp (Check the possible arguments)"
   ]
  },
  {
   "cell_type": "markdown",
   "id": "0e5f1efb",
   "metadata": {},
   "source": [
    "#### The constructor is quite flexible with the formats"
   ]
  },
  {
   "cell_type": "code",
   "execution_count": 5,
   "id": "91baa3ec",
   "metadata": {},
   "outputs": [
    {
     "name": "stdout",
     "output_type": "stream",
     "text": [
      "2022-06-22 00:00:00\n",
      "2023-01-18 00:00:00\n",
      "2024-11-15 00:00:00\n",
      "2025-08-12 00:00:00\n"
     ]
    }
   ],
   "source": [
    "def display_timestamp(text):\n",
    "    print(pd.Timestamp(text))\n",
    "\n",
    "display_timestamp('2022-6-22')  \n",
    "display_timestamp('2023/1/18')  \n",
    "display_timestamp('2024.11.15')  \n",
    "display_timestamp('2025 Aug 12')  "
   ]
  },
  {
   "cell_type": "markdown",
   "id": "ca61f1bb",
   "metadata": {},
   "source": [
    "#### We can also pass in timestamps"
   ]
  },
  {
   "cell_type": "code",
   "execution_count": 6,
   "id": "b5295db4",
   "metadata": {},
   "outputs": [
    {
     "data": {
      "text/plain": [
       "Timestamp('1975-12-15 12:50:38.692901790')"
      ]
     },
     "execution_count": 6,
     "metadata": {},
     "output_type": "execute_result"
    }
   ],
   "source": [
    "pd.Timestamp(187879838692901790)     # Time elapsed since 1975 in nanoseconds"
   ]
  },
  {
   "cell_type": "code",
   "execution_count": 7,
   "id": "6039418d",
   "metadata": {},
   "outputs": [
    {
     "data": {
      "text/plain": [
       "Timestamp('1975-12-15 12:14:33.787753820')"
      ]
     },
     "execution_count": 7,
     "metadata": {},
     "output_type": "execute_result"
    }
   ],
   "source": [
    "pd.Timestamp(187877673.787753819, unit='s')    # We can also specify it to be a different unit"
   ]
  },
  {
   "cell_type": "markdown",
   "id": "3c68c659",
   "metadata": {},
   "source": [
    "#### Another way to create timestamp object"
   ]
  },
  {
   "cell_type": "code",
   "execution_count": 8,
   "id": "1cf53442",
   "metadata": {},
   "outputs": [
    {
     "data": {
      "text/plain": [
       "Timestamp('1998-08-12 12:08:38')"
      ]
     },
     "execution_count": 8,
     "metadata": {},
     "output_type": "execute_result"
    }
   ],
   "source": [
    "pd.Timestamp(1998, 8, 12, 12, 8, 38)"
   ]
  },
  {
   "cell_type": "code",
   "execution_count": 9,
   "id": "77025ff1",
   "metadata": {},
   "outputs": [
    {
     "data": {
      "text/plain": [
       "Timestamp('2025-08-07 13:48:52')"
      ]
     },
     "execution_count": 9,
     "metadata": {},
     "output_type": "execute_result"
    }
   ],
   "source": [
    "pd. Timestamp(year=2025, month=8, day=7, hour=13, minute=48, second=52)"
   ]
  },
  {
   "cell_type": "markdown",
   "id": "998244f7",
   "metadata": {},
   "source": [
    "#### ```to_datetime()``` is similar to ```timestamp()``` but more flexible (can also convert lists)"
   ]
  },
  {
   "cell_type": "code",
   "execution_count": 10,
   "id": "c74e82a9",
   "metadata": {},
   "outputs": [
    {
     "name": "stdout",
     "output_type": "stream",
     "text": [
      "2025-12-08 00:00:00\n",
      "1970-01-01 00:29:59.370912009\n"
     ]
    }
   ],
   "source": [
    "def dispaly_result(text:str):\n",
    "    print(pd.to_datetime(text))\n",
    "\n",
    "dispaly_result('2025/12/8')\n",
    "dispaly_result(1799370912009)"
   ]
  },
  {
   "cell_type": "markdown",
   "id": "e80fe826",
   "metadata": {},
   "source": [
    "#### Datatimeindex is collection of Timestamp objects"
   ]
  },
  {
   "cell_type": "code",
   "execution_count": 11,
   "id": "82198423",
   "metadata": {},
   "outputs": [
    {
     "data": {
      "text/plain": [
       "DatetimeIndex(['2022-06-22', '1998-08-12'], dtype='datetime64[ns]', freq=None)"
      ]
     },
     "execution_count": 11,
     "metadata": {},
     "output_type": "execute_result"
    }
   ],
   "source": [
    "pd.to_datetime(['2022.6.22', '1998.8.12'])     # Also works with lists (returns datetimeIndex)"
   ]
  },
  {
   "cell_type": "code",
   "execution_count": 12,
   "id": "cf5f4b3e",
   "metadata": {},
   "outputs": [
    {
     "data": {
      "text/plain": [
       "DatetimeIndex([          '1998-01-01 00:00:00',\n",
       "                         '2025-12-08 00:00:00',\n",
       "                         '2025-08-07 12:20:00',\n",
       "               '1970-01-02 22:21:27.812379172'],\n",
       "              dtype='datetime64[ns]', freq=None)"
      ]
     },
     "execution_count": 12,
     "metadata": {},
     "output_type": "execute_result"
    }
   ],
   "source": [
    "pd.to_datetime(['1998', '2025-12-8', '12:20', 166887812379172], errors='coerce', unit='ns')"
   ]
  },
  {
   "cell_type": "code",
   "execution_count": 13,
   "id": "f47eff09",
   "metadata": {},
   "outputs": [
    {
     "name": "stderr",
     "output_type": "stream",
     "text": [
      "C:\\Users\\ACER\\AppData\\Local\\Temp\\ipykernel_1788\\2499495972.py:1: FutureWarning: errors='ignore' is deprecated and will raise in a future version. Use to_datetime without passing `errors` and catch exceptions explicitly instead\n",
      "  pd.to_datetime(['1998', '2099.99.10'], errors='ignore')      # 'Ignore' will just not convert it\n"
     ]
    },
    {
     "data": {
      "text/plain": [
       "Index(['1998', '2099.99.10'], dtype='object')"
      ]
     },
     "execution_count": 13,
     "metadata": {},
     "output_type": "execute_result"
    }
   ],
   "source": [
    "pd.to_datetime(['1998', '2099.99.10'], errors='ignore')      # 'Ignore' will just not convert it \n",
    "                                                             # 'coerse' will convert to NaT if it's not a valid timestamp"
   ]
  },
  {
   "cell_type": "markdown",
   "id": "0eb41fad",
   "metadata": {},
   "source": [
    "## date_range()\n",
    "- It is used to create a DatetimeIndex"
   ]
  },
  {
   "cell_type": "code",
   "execution_count": 14,
   "id": "0f3bf559",
   "metadata": {},
   "outputs": [
    {
     "data": {
      "text/plain": [
       "DatetimeIndex(['2025-01-01', '2025-01-02', '2025-01-03', '2025-01-04',\n",
       "               '2025-01-05', '2025-01-06', '2025-01-07', '2025-01-08',\n",
       "               '2025-01-09', '2025-01-10', '2025-01-11', '2025-01-12',\n",
       "               '2025-01-13', '2025-01-14', '2025-01-15', '2025-01-16',\n",
       "               '2025-01-17', '2025-01-18', '2025-01-19', '2025-01-20',\n",
       "               '2025-01-21', '2025-01-22', '2025-01-23', '2025-01-24',\n",
       "               '2025-01-25', '2025-01-26', '2025-01-27', '2025-01-28',\n",
       "               '2025-01-29', '2025-01-30', '2025-01-31', '2025-02-01',\n",
       "               '2025-02-02', '2025-02-03', '2025-02-04', '2025-02-05',\n",
       "               '2025-02-06', '2025-02-07', '2025-02-08', '2025-02-09',\n",
       "               '2025-02-10', '2025-02-11', '2025-02-12', '2025-02-13',\n",
       "               '2025-02-14', '2025-02-15', '2025-02-16', '2025-02-17',\n",
       "               '2025-02-18', '2025-02-19', '2025-02-20', '2025-02-21',\n",
       "               '2025-02-22', '2025-02-23', '2025-02-24', '2025-02-25',\n",
       "               '2025-02-26', '2025-02-27', '2025-02-28'],\n",
       "              dtype='datetime64[ns]', freq='D')"
      ]
     },
     "execution_count": 14,
     "metadata": {},
     "output_type": "execute_result"
    }
   ],
   "source": [
    "pd.date_range(start='2025.01.01', end='2025.02.28')"
   ]
  },
  {
   "cell_type": "code",
   "execution_count": 30,
   "id": "4fd30da0",
   "metadata": {},
   "outputs": [
    {
     "data": {
      "text/plain": [
       "DatetimeIndex(['2025-01-31', '2025-02-28', '2025-03-31', '2025-04-30',\n",
       "               '2025-05-31', '2025-06-30', '2025-07-31'],\n",
       "              dtype='datetime64[ns]', freq='ME')"
      ]
     },
     "execution_count": 30,
     "metadata": {},
     "output_type": "execute_result"
    }
   ],
   "source": [
    "pd.date_range(start='2025.01.01', end='2025.08.12', freq='ME')    #  \"freq=ME\" will make it monthly"
   ]
  },
  {
   "cell_type": "markdown",
   "id": "333175ac",
   "metadata": {},
   "source": [
    "##### But what if we want to start each month from its first day?"
   ]
  },
  {
   "cell_type": "code",
   "execution_count": null,
   "id": "2061308b",
   "metadata": {},
   "outputs": [
    {
     "data": {
      "text/plain": [
       "DatetimeIndex(['2025-01-01', '2025-02-01', '2025-03-01', '2025-04-01',\n",
       "               '2025-05-01', '2025-06-01', '2025-07-01', '2025-08-01'],\n",
       "              dtype='datetime64[ns]', freq='MS')"
      ]
     },
     "execution_count": 17,
     "metadata": {},
     "output_type": "execute_result"
    }
   ],
   "source": [
    "pd.date_range(start='2025.01.01', end='2025.08.12', freq='MS')    # MS is month-start"
   ]
  },
  {
   "cell_type": "markdown",
   "id": "e17b4a62",
   "metadata": {},
   "source": [
    "##### Aliases for freq: https://pandas.pydata.org/docs/user_guide/timeseries.html#timeseries-offset-aliases"
   ]
  },
  {
   "cell_type": "code",
   "execution_count": null,
   "id": "a48a60c9",
   "metadata": {},
   "outputs": [
    {
     "data": {
      "text/plain": [
       "DatetimeIndex([          '2025-01-01 00:00:00',\n",
       "               '2025-01-02 13:53:41.052631578',\n",
       "               '2025-01-04 03:47:22.105263157',\n",
       "               '2025-01-05 17:41:03.157894736',\n",
       "               '2025-01-07 07:34:44.210526315',\n",
       "               '2025-01-08 21:28:25.263157894',\n",
       "               '2025-01-10 11:22:06.315789473',\n",
       "               '2025-01-12 01:15:47.368421052',\n",
       "               '2025-01-13 15:09:28.421052631',\n",
       "               '2025-01-15 05:03:09.473684210',\n",
       "               '2025-01-16 18:56:50.526315789',\n",
       "               '2025-01-18 08:50:31.578947368',\n",
       "               '2025-01-19 22:44:12.631578947',\n",
       "               '2025-01-21 12:37:53.684210526',\n",
       "               '2025-01-23 02:31:34.736842105',\n",
       "               '2025-01-24 16:25:15.789473684',\n",
       "               '2025-01-26 06:18:56.842105263',\n",
       "               '2025-01-27 20:12:37.894736842',\n",
       "               '2025-01-29 10:06:18.947368421',\n",
       "                         '2025-01-31 00:00:00'],\n",
       "              dtype='datetime64[ns]', freq=None)"
      ]
     },
     "execution_count": 18,
     "metadata": {},
     "output_type": "execute_result"
    }
   ],
   "source": [
    "pd.date_range(start='2025.01.01', end='2025.01.31', periods=20)      # Will splits it into periods"
   ]
  },
  {
   "cell_type": "code",
   "execution_count": 20,
   "id": "c15d75e5",
   "metadata": {},
   "outputs": [
    {
     "data": {
      "text/plain": [
       "DatetimeIndex(['2025-01-01', '2025-01-02', '2025-01-03', '2025-01-04',\n",
       "               '2025-01-05', '2025-01-06', '2025-01-07', '2025-01-08',\n",
       "               '2025-01-09', '2025-01-10', '2025-01-11', '2025-01-12'],\n",
       "              dtype='datetime64[ns]', freq='D')"
      ]
     },
     "execution_count": 20,
     "metadata": {},
     "output_type": "execute_result"
    }
   ],
   "source": [
    "pd.date_range(start='2025.01.01', periods=12)"
   ]
  },
  {
   "cell_type": "code",
   "execution_count": null,
   "id": "f9736889",
   "metadata": {},
   "outputs": [
    {
     "data": {
      "text/plain": [
       "DatetimeIndex(['2024-12-21', '2024-12-22', '2024-12-23', '2024-12-24',\n",
       "               '2024-12-25', '2024-12-26', '2024-12-27', '2024-12-28',\n",
       "               '2024-12-29', '2024-12-30', '2024-12-31', '2025-01-01'],\n",
       "              dtype='datetime64[ns]', freq='D')"
      ]
     },
     "execution_count": 23,
     "metadata": {},
     "output_type": "execute_result"
    }
   ],
   "source": [
    "pd.date_range(end='2025.01.01', periods=12, freq='D')    # We can set a frequency"
   ]
  },
  {
   "cell_type": "code",
   "execution_count": 26,
   "id": "96bf19ea",
   "metadata": {},
   "outputs": [
    {
     "data": {
      "text/plain": [
       "DatetimeIndex(['2024-12-31 23:59:59.999999989',\n",
       "               '2024-12-31 23:59:59.999999990',\n",
       "               '2024-12-31 23:59:59.999999991',\n",
       "               '2024-12-31 23:59:59.999999992',\n",
       "               '2024-12-31 23:59:59.999999993',\n",
       "               '2024-12-31 23:59:59.999999994',\n",
       "               '2024-12-31 23:59:59.999999995',\n",
       "               '2024-12-31 23:59:59.999999996',\n",
       "               '2024-12-31 23:59:59.999999997',\n",
       "               '2024-12-31 23:59:59.999999998',\n",
       "               '2024-12-31 23:59:59.999999999',\n",
       "                         '2025-01-01 00:00:00'],\n",
       "              dtype='datetime64[ns]', freq='ns')"
      ]
     },
     "execution_count": 26,
     "metadata": {},
     "output_type": "execute_result"
    }
   ],
   "source": [
    "pd.date_range(end='2025.01.01', periods=12, freq='ns')    # It can be very short (nano-second)"
   ]
  },
  {
   "cell_type": "code",
   "execution_count": null,
   "id": "e8ea6898",
   "metadata": {},
   "outputs": [],
   "source": [
    "# pd.date_range(start='2025.01.01', end='2025.08.08', periods=12, freq='ME')     \n",
    "\n",
    "# We can't define a freqency if we have provided both start and end time"
   ]
  },
  {
   "cell_type": "markdown",
   "id": "4aeb223c",
   "metadata": {},
   "source": [
    "## Period and period index"
   ]
  },
  {
   "cell_type": "code",
   "execution_count": 33,
   "id": "56e77e98",
   "metadata": {},
   "outputs": [
    {
     "data": {
      "text/plain": [
       "Timestamp('2025-08-08 00:00:00')"
      ]
     },
     "execution_count": 33,
     "metadata": {},
     "output_type": "execute_result"
    }
   ],
   "source": [
    "# Timestamps are a specific moment\n",
    "pd.Timestamp('2025.08.08')"
   ]
  },
  {
   "cell_type": "markdown",
   "id": "cf71d501",
   "metadata": {},
   "source": [
    "#### Periods represent a general timeframe"
   ]
  },
  {
   "cell_type": "code",
   "execution_count": null,
   "id": "297a1459",
   "metadata": {},
   "outputs": [
    {
     "data": {
      "text/plain": [
       "Period('2025-08-08', 'D')"
      ]
     },
     "execution_count": 34,
     "metadata": {},
     "output_type": "execute_result"
    }
   ],
   "source": [
    "pd.Period('2025.08.08')     # refers to the entire day of that date"
   ]
  },
  {
   "cell_type": "markdown",
   "id": "2b743db7",
   "metadata": {},
   "source": [
    "#### Periods have very similar syntax to Timestamps"
   ]
  },
  {
   "cell_type": "code",
   "execution_count": 35,
   "id": "53383fad",
   "metadata": {},
   "outputs": [
    {
     "data": {
      "text/plain": [
       "PeriodIndex(['2025-01-01', '2025-01-02', '2025-01-03', '2025-01-04',\n",
       "             '2025-01-05', '2025-01-06', '2025-01-07', '2025-01-08',\n",
       "             '2025-01-09', '2025-01-10', '2025-01-11', '2025-01-12',\n",
       "             '2025-01-13', '2025-01-14', '2025-01-15', '2025-01-16',\n",
       "             '2025-01-17', '2025-01-18', '2025-01-19', '2025-01-20',\n",
       "             '2025-01-21', '2025-01-22', '2025-01-23', '2025-01-24',\n",
       "             '2025-01-25', '2025-01-26', '2025-01-27', '2025-01-28',\n",
       "             '2025-01-29', '2025-01-30', '2025-01-31'],\n",
       "            dtype='period[D]')"
      ]
     },
     "execution_count": 35,
     "metadata": {},
     "output_type": "execute_result"
    }
   ],
   "source": [
    "pd.period_range(start='2025.01.01', end='2025.01.31')    # Will create a PeriodIndex of days "
   ]
  },
  {
   "cell_type": "code",
   "execution_count": 38,
   "id": "9b92912a",
   "metadata": {},
   "outputs": [
    {
     "data": {
      "text/plain": [
       "PeriodIndex(['2025-01', '2025-02', '2025-03', '2025-04', '2025-05', '2025-06',\n",
       "             '2025-07', '2025-08', '2025-09', '2025-10', '2025-11', '2025-12'],\n",
       "            dtype='period[M]')"
      ]
     },
     "execution_count": 38,
     "metadata": {},
     "output_type": "execute_result"
    }
   ],
   "source": [
    "pd.period_range(start='2025.01.01', end='2025.12.31', freq='M')    # we can define frequency also"
   ]
  },
  {
   "cell_type": "markdown",
   "id": "cac5b1bb",
   "metadata": {},
   "source": [
    "#### PeriodIndex can be converted to DatetimeIndex using the followinhg mwthod"
   ]
  },
  {
   "cell_type": "code",
   "execution_count": 39,
   "id": "b86603b0",
   "metadata": {},
   "outputs": [
    {
     "data": {
      "text/plain": [
       "DatetimeIndex(['2025-01-01', '2025-01-02', '2025-01-03', '2025-01-04',\n",
       "               '2025-01-05', '2025-01-06', '2025-01-07', '2025-01-08',\n",
       "               '2025-01-09', '2025-01-10',\n",
       "               ...\n",
       "               '2025-12-22', '2025-12-23', '2025-12-24', '2025-12-25',\n",
       "               '2025-12-26', '2025-12-27', '2025-12-28', '2025-12-29',\n",
       "               '2025-12-30', '2025-12-31'],\n",
       "              dtype='datetime64[ns]', length=365, freq='D')"
      ]
     },
     "execution_count": 39,
     "metadata": {},
     "output_type": "execute_result"
    }
   ],
   "source": [
    "pd.period_range(start='2025.01.01', end='2025.12.31').to_timestamp()"
   ]
  },
  {
   "cell_type": "code",
   "execution_count": null,
   "id": "d2687124",
   "metadata": {},
   "outputs": [
    {
     "data": {
      "text/plain": [
       "PeriodIndex(['2025-01-01', '2025-01-02', '2025-01-03', '2025-01-04',\n",
       "             '2025-01-05', '2025-01-06', '2025-01-07', '2025-01-08',\n",
       "             '2025-01-09', '2025-01-10',\n",
       "             ...\n",
       "             '2025-12-22', '2025-12-23', '2025-12-24', '2025-12-25',\n",
       "             '2025-12-26', '2025-12-27', '2025-12-28', '2025-12-29',\n",
       "             '2025-12-30', '2025-12-31'],\n",
       "            dtype='period[D]', length=365)"
      ]
     },
     "execution_count": 40,
     "metadata": {},
     "output_type": "execute_result"
    }
   ],
   "source": [
    "# Also works the other way around\n",
    "pd.date_range(start='2025.01.01', end='2025.12.31').to_period()"
   ]
  },
  {
   "cell_type": "code",
   "execution_count": null,
   "id": "b1554f91",
   "metadata": {},
   "outputs": [],
   "source": []
  }
 ],
 "metadata": {
  "kernelspec": {
   "display_name": "venv",
   "language": "python",
   "name": "python3"
  },
  "language_info": {
   "codemirror_mode": {
    "name": "ipython",
    "version": 3
   },
   "file_extension": ".py",
   "mimetype": "text/x-python",
   "name": "python",
   "nbconvert_exporter": "python",
   "pygments_lexer": "ipython3",
   "version": "3.12.5"
  }
 },
 "nbformat": 4,
 "nbformat_minor": 5
}
