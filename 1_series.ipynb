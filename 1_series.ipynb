{
 "cells": [
  {
   "cell_type": "markdown",
   "id": "2b0e11ff",
   "metadata": {},
   "source": [
    "## Series\n",
    "### Introduction\n",
    "- Series is a one dimensional lebeled array capable of holding any data type, and that can be integers, strings, floating point\n",
    "  numbers or python objects, etc.\n",
    "- The axis labels are collectively referred to as the index."
   ]
  },
  {
   "cell_type": "code",
   "execution_count": 1,
   "id": "49174baa",
   "metadata": {},
   "outputs": [],
   "source": [
    "import pandas as pd"
   ]
  },
  {
   "cell_type": "code",
   "execution_count": 2,
   "id": "78ba013e",
   "metadata": {},
   "outputs": [
    {
     "name": "stdout",
     "output_type": "stream",
     "text": [
      "0    1\n",
      "1    2\n",
      "2    3\n",
      "3    4\n",
      "4    5\n",
      "dtype: int64\n"
     ]
    }
   ],
   "source": [
    "numbers = [1, 2, 3 , 4, 5]\n",
    "print(pd.Series(numbers))"
   ]
  },
  {
   "cell_type": "code",
   "execution_count": 6,
   "id": "44185e70",
   "metadata": {},
   "outputs": [
    {
     "data": {
      "text/plain": [
       "1    a\n",
       "2    b\n",
       "3    c\n",
       "4    d\n",
       "5    e\n",
       "dtype: object"
      ]
     },
     "execution_count": 6,
     "metadata": {},
     "output_type": "execute_result"
    }
   ],
   "source": [
    "letters = ['a', 'b', 'c', 'd', 'e']\n",
    "pd.Series(data=letters, index=numbers)"
   ]
  },
  {
   "cell_type": "code",
   "execution_count": 5,
   "id": "7cfc143c",
   "metadata": {},
   "outputs": [
    {
     "data": {
      "text/plain": [
       "letter 1    a\n",
       "letter 2    b\n",
       "letter 3    c\n",
       "letter 4    d\n",
       "letter 5    e\n",
       "dtype: object"
      ]
     },
     "execution_count": 5,
     "metadata": {},
     "output_type": "execute_result"
    }
   ],
   "source": [
    "pd.Series(data=letters, index=['letter 1', 'letter 2', 'letter 3', 'letter 4', 'letter 5'])"
   ]
  },
  {
   "cell_type": "code",
   "execution_count": 6,
   "id": "15345ca2",
   "metadata": {},
   "outputs": [
    {
     "data": {
      "text/plain": [
       "Name     Abhishek\n",
       "age            26\n",
       "work    Developer\n",
       "dtype: object"
      ]
     },
     "execution_count": 6,
     "metadata": {},
     "output_type": "execute_result"
    }
   ],
   "source": [
    "info = {'Name':'Abhishek', 'age':26, 'work':'Developer'}\n",
    "pd.Series(data=info)"
   ]
  },
  {
   "cell_type": "code",
   "execution_count": 6,
   "id": "254fe633",
   "metadata": {},
   "outputs": [
    {
     "data": {
      "text/plain": [
       "Name    Abhishek\n",
       "age           26\n",
       "job          NaN\n",
       "dtype: object"
      ]
     },
     "execution_count": 6,
     "metadata": {},
     "output_type": "execute_result"
    }
   ],
   "source": [
    "# Index will try to use find those keys, but if it doesn't exist will provide NaN\n",
    "pd.Series(data=info, index=['Name', 'age', 'job'])"
   ]
  },
  {
   "cell_type": "markdown",
   "id": "d775ad8f",
   "metadata": {},
   "source": [
    "## Attributes\n",
    "- It return information regarding the object "
   ]
  },
  {
   "cell_type": "code",
   "execution_count": 8,
   "id": "c6bfb47f",
   "metadata": {},
   "outputs": [],
   "source": [
    "numbers = [1, 2, 3, 4, 5]\n",
    "letters = ['a', 'b', 'c', 'd', 'e']"
   ]
  },
  {
   "cell_type": "code",
   "execution_count": 9,
   "id": "4abdbc56",
   "metadata": {},
   "outputs": [
    {
     "name": "stdout",
     "output_type": "stream",
     "text": [
      "0    1\n",
      "1    2\n",
      "2    3\n",
      "3    4\n",
      "4    5\n",
      "dtype: int64\n",
      "0    a\n",
      "1    b\n",
      "2    c\n",
      "3    d\n",
      "4    e\n",
      "dtype: object\n"
     ]
    }
   ],
   "source": [
    "number_series = pd.Series(numbers)\n",
    "print(number_series)\n",
    "\n",
    "letter_series = pd.Series(letters)\n",
    "print(letter_series)"
   ]
  },
  {
   "cell_type": "code",
   "execution_count": 8,
   "id": "cee5a1a2",
   "metadata": {},
   "outputs": [
    {
     "name": "stdout",
     "output_type": "stream",
     "text": [
      "int64\n",
      "object\n"
     ]
    }
   ],
   "source": [
    "print(number_series.dtype)\n",
    "print(letter_series.dtype)"
   ]
  },
  {
   "cell_type": "code",
   "execution_count": 13,
   "id": "a4987859",
   "metadata": {},
   "outputs": [
    {
     "name": "stdout",
     "output_type": "stream",
     "text": [
      "['a' 'b' 'c' 'd' 'e']\n",
      "RangeIndex(start=0, stop=5, step=1)\n"
     ]
    }
   ],
   "source": [
    "# .values returns the series as an array\n",
    "print(letter_series.values)\n",
    "\n",
    "# .index returns information about the index\n",
    "print(number_series.index)"
   ]
  },
  {
   "cell_type": "code",
   "execution_count": 10,
   "id": "a67abc98",
   "metadata": {},
   "outputs": [
    {
     "name": "stdout",
     "output_type": "stream",
     "text": [
      "1       a\n",
      "2       b\n",
      "3    None\n",
      "dtype: object\n",
      "True\n"
     ]
    }
   ],
   "source": [
    "incomplete_series = pd.Series(data=['a', 'b', None], index=[1, 2, 3])\n",
    "print(incomplete_series)\n",
    "\n",
    "# .hasnans will check whether a series has missing values (or NaNs)\n",
    "print(incomplete_series.hasnans)"
   ]
  },
  {
   "cell_type": "code",
   "execution_count": 11,
   "id": "11fc0809",
   "metadata": {},
   "outputs": [
    {
     "name": "stdout",
     "output_type": "stream",
     "text": [
      "(5,)\n",
      "5\n"
     ]
    }
   ],
   "source": [
    "# .shape returns the shape of a series has a tuple\n",
    "# Usually used with dataframes\n",
    "print(number_series.shape)\n",
    "\n",
    "# .size returns the size of the series\n",
    "print(number_series.size)"
   ]
  },
  {
   "cell_type": "markdown",
   "id": "12e18631",
   "metadata": {},
   "source": [
    "## Methods\n",
    "- Methods actually perform actions and can even end up changing the original object."
   ]
  },
  {
   "cell_type": "code",
   "execution_count": 52,
   "id": "48aebe69",
   "metadata": {},
   "outputs": [
    {
     "name": "stdout",
     "output_type": "stream",
     "text": [
      "0    1.5\n",
      "1    2.5\n",
      "2    0.0\n",
      "3    NaN\n",
      "4    4.0\n",
      "5   -5.0\n",
      "dtype: float64\n"
     ]
    }
   ],
   "source": [
    "values = pd.Series(data=[1.5, 2.5, 0, None, 4, -5])\n",
    "print(values)"
   ]
  },
  {
   "cell_type": "code",
   "execution_count": 53,
   "id": "3ec30491",
   "metadata": {},
   "outputs": [
    {
     "name": "stdout",
     "output_type": "stream",
     "text": [
      "4.0\n",
      "-5.0\n",
      "3.0\n",
      "0.6\n",
      "4\n",
      "5\n",
      "0    False\n",
      "1    False\n",
      "2    False\n",
      "3     True\n",
      "4    False\n",
      "5    False\n",
      "dtype: bool\n",
      "0    2.0\n",
      "1    2.0\n",
      "2    0.0\n",
      "3    NaN\n",
      "4    4.0\n",
      "5   -5.0\n",
      "dtype: float64\n"
     ]
    }
   ],
   "source": [
    "print(values.max())\n",
    "print(values.min())\n",
    "print(values.sum())\n",
    "print(values.mean())\n",
    "print(values.idxmax())   # return the index which has maximum value\n",
    "print(values.idxmin())   # return the index which has miniimum value\n",
    "print(values.isnull())   # Checks whether each value is null or not\n",
    "print(values.round())    # Round each values in the series"
   ]
  },
  {
   "cell_type": "markdown",
   "id": "10dabe35",
   "metadata": {},
   "source": [
    "## Handling CSV files"
   ]
  },
  {
   "cell_type": "code",
   "execution_count": null,
   "id": "ba50e36f",
   "metadata": {},
   "outputs": [
    {
     "name": "stdout",
     "output_type": "stream",
     "text": [
      "Richest Person List: \n",
      " 0                     Elon Musk\n",
      "1                    Jeff Bezos\n",
      "2      Bernard Arnault & family\n",
      "3                    Bill Gates\n",
      "4                Warren Buffett\n",
      "                 ...           \n",
      "96             Vladimir Potanin\n",
      "97         Harold Hamm & family\n",
      "98                 Sun Piaoyang\n",
      "99           Luo Liguo & family\n",
      "100                   Peter Woo\n",
      "Name: Name, Length: 101, dtype: object\n",
      "<class 'pandas.core.series.Series'>\n"
     ]
    }
   ],
   "source": [
    "# Read the CSV file and squeeze the column into a series\n",
    "\n",
    "richest = pd.read_csv('TopRichestInWorld.csv', usecols=['Name']).squeeze()\n",
    "print(\"Richest Person List: \\n\", richest)\n",
    "print(type(richest))"
   ]
  },
  {
   "cell_type": "markdown",
   "id": "474575f7",
   "metadata": {},
   "source": [
    "### Create and read CSV file"
   ]
  },
  {
   "cell_type": "code",
   "execution_count": 21,
   "id": "5c186096",
   "metadata": {},
   "outputs": [],
   "source": [
    "# Create a CSV file (This will be placed in the current folder)\n",
    "richest.to_csv('test.csv', index=False)   # set to False to avoid extra index"
   ]
  },
  {
   "cell_type": "code",
   "execution_count": 35,
   "id": "6778bb9b",
   "metadata": {},
   "outputs": [
    {
     "name": "stdout",
     "output_type": "stream",
     "text": [
      "0                     Elon Musk\n",
      "1                    Jeff Bezos\n",
      "2      Bernard Arnault & family\n",
      "3                    Bill Gates\n",
      "4                Warren Buffett\n",
      "                 ...           \n",
      "96             Vladimir Potanin\n",
      "97         Harold Hamm & family\n",
      "98                 Sun Piaoyang\n",
      "99           Luo Liguo & family\n",
      "100                   Peter Woo\n",
      "Name: Name, Length: 101, dtype: object\n",
      "Type:  <class 'pandas.core.series.Series'>\n"
     ]
    }
   ],
   "source": [
    "# Read the CSV file that we created\n",
    "people = pd.read_csv('test.csv').squeeze()\n",
    "print(people)\n",
    "print(\"Type: \", type(people))"
   ]
  },
  {
   "cell_type": "markdown",
   "id": "a7e73142",
   "metadata": {},
   "source": [
    "### head() and tail()"
   ]
  },
  {
   "cell_type": "code",
   "execution_count": 38,
   "id": "8ceb19e1",
   "metadata": {},
   "outputs": [
    {
     "name": "stdout",
     "output_type": "stream",
     "text": [
      "0                   Elon Musk\n",
      "1                  Jeff Bezos\n",
      "2    Bernard Arnault & family\n",
      "3                  Bill Gates\n",
      "4              Warren Buffett\n",
      "5                  Larry Page\n",
      "6                 Sergey Brin\n",
      "7               Larry Ellison\n",
      "8               Steve Ballmer\n",
      "9               Mukesh Ambani\n",
      "Name: Name, dtype: object\n",
      "0                    Elon Musk\n",
      "1                   Jeff Bezos\n",
      "2     Bernard Arnault & family\n",
      "3                   Bill Gates\n",
      "4               Warren Buffett\n",
      "                ...           \n",
      "86              Vladimir Lisin\n",
      "87        Fan Hongwei & family\n",
      "88              Lakshmi Mittal\n",
      "89              Andrew Forrest\n",
      "90     Jiang Rensheng & family\n",
      "Name: Name, Length: 91, dtype: object\n"
     ]
    }
   ],
   "source": [
    "a = richest.head(10)   # Returns the first 10 rows\n",
    "print(a)\n",
    "\n",
    "b = richest.head(-10)  # Returns all the rows except last 10 rows\n",
    "print(b)"
   ]
  },
  {
   "cell_type": "code",
   "execution_count": 39,
   "id": "9ccac8fb",
   "metadata": {},
   "outputs": [
    {
     "name": "stdout",
     "output_type": "stream",
     "text": [
      "91     Savitri Jindal & family\n",
      "92                 Wang Wenyin\n",
      "93                   Li Xiting\n",
      "94              Stefan Persson\n",
      "95                 Steve Cohen\n",
      "96            Vladimir Potanin\n",
      "97        Harold Hamm & family\n",
      "98                Sun Piaoyang\n",
      "99          Luo Liguo & family\n",
      "100                  Peter Woo\n",
      "Name: Name, dtype: object\n",
      "10                     Gautam Adani & family\n",
      "11                         Michael Bloomberg\n",
      "12                 Carlos Slim Helu & family\n",
      "13     Francoise Bettencourt Meyers & family\n",
      "14                           Mark Zuckerberg\n",
      "                       ...                  \n",
      "96                          Vladimir Potanin\n",
      "97                      Harold Hamm & family\n",
      "98                              Sun Piaoyang\n",
      "99                        Luo Liguo & family\n",
      "100                                Peter Woo\n",
      "Name: Name, Length: 91, dtype: object\n"
     ]
    }
   ],
   "source": [
    "c = richest.tail(10)      # Returns last 10 rows\n",
    "print(c)\n",
    "\n",
    "d = richest.tail(-10)     # Returns all the rows except first 10 rows\n",
    "print(d)"
   ]
  },
  {
   "cell_type": "markdown",
   "id": "7acdac74",
   "metadata": {},
   "source": [
    "### Sorting values in a series"
   ]
  },
  {
   "cell_type": "code",
   "execution_count": 25,
   "id": "136ae8a0",
   "metadata": {},
   "outputs": [
    {
     "name": "stdout",
     "output_type": "stream",
     "text": [
      "New sorted richest list: \n",
      " 0           Abigail Johnson\n",
      "1          Alain Wertheimer\n",
      "2              Alice Walton\n",
      "3            Amancio Ortega\n",
      "4            Andrew Forrest\n",
      "               ...         \n",
      "96           Warren Buffett\n",
      "97         William Lei Ding\n",
      "98     Yang Huiyan & family\n",
      "99             Zhang Yiming\n",
      "100          Zhong Shanshan\n",
      "Name: Name, Length: 101, dtype: object\n"
     ]
    }
   ],
   "source": [
    "new_richest = richest.sort_values(axis=0, ascending=True, kind='quicksort', na_position='last', ignore_index=True)\n",
    "print(\"New sorted richest list: \\n\", new_richest)"
   ]
  },
  {
   "cell_type": "code",
   "execution_count": 74,
   "id": "0dca4684",
   "metadata": {},
   "outputs": [
    {
     "name": "stdout",
     "output_type": "stream",
     "text": [
      "0                     Peter Woo\n",
      "1            Luo Liguo & family\n",
      "2                  Sun Piaoyang\n",
      "3          Harold Hamm & family\n",
      "4              Vladimir Potanin\n",
      "                 ...           \n",
      "96               Warren Buffett\n",
      "97                   Bill Gates\n",
      "98     Bernard Arnault & family\n",
      "99                   Jeff Bezos\n",
      "100                   Elon Musk\n",
      "Name: Name, Length: 101, dtype: object\n"
     ]
    }
   ],
   "source": [
    "# Sorting index\n",
    "richest_sort_index = richest.sort_index(ascending=False, ignore_index=True)\n",
    "print(richest_sort_index)"
   ]
  },
  {
   "cell_type": "markdown",
   "id": "2915b700",
   "metadata": {},
   "source": [
    "### Value Counts\n",
    "-  count the occurrences of certain values or of all the values."
   ]
  },
  {
   "cell_type": "code",
   "execution_count": 30,
   "id": "72d32590",
   "metadata": {},
   "outputs": [
    {
     "name": "stdout",
     "output_type": "stream",
     "text": [
      "0                 Automotive\n",
      "1                 Technology\n",
      "2           Fashion & Retail\n",
      "3                 Technology\n",
      "4      Finance & Investments\n",
      "               ...          \n",
      "96           Metals & Mining\n",
      "97                    Energy\n",
      "98                Healthcare\n",
      "99             Manufacturing\n",
      "100              Real Estate\n",
      "Name: Industry, Length: 101, dtype: object\n",
      "\n",
      "Value Counts from different industries: \n",
      " Industry\n",
      "Gambling & Casinos       0.009901\n",
      "Service                  0.009901\n",
      "Telecom                  0.019802\n",
      "Logistics                0.019802\n",
      "Energy                   0.019802\n",
      "Real Estate              0.029703\n",
      "Media & Entertainment    0.039604\n",
      "Manufacturing            0.049505\n",
      "Healthcare               0.049505\n",
      "Diversified              0.059406\n",
      "Automotive               0.069307\n",
      "Food & Beverage          0.079208\n",
      "Metals & Mining          0.089109\n",
      "Finance & Investments    0.128713\n",
      "Technology               0.148515\n",
      "Fashion & Retail         0.178218\n",
      "Name: proportion, dtype: float64\n"
     ]
    }
   ],
   "source": [
    "richest = pd.read_csv('TopRichestInWorld.csv', usecols=['Industry']).squeeze()\n",
    "print(richest)\n",
    "\n",
    "value_count_FDI = richest.value_counts(normalize=True, ascending=True, dropna=False)\n",
    "print(\"\\nValue Counts from different industries: \\n\", value_count_FDI)"
   ]
  },
  {
   "cell_type": "code",
   "execution_count": null,
   "id": "6cb4effa",
   "metadata": {},
   "outputs": [
    {
     "data": {
      "text/plain": [
       "(62.0, 78.0]      40\n",
       "(46.0, 62.0]      31\n",
       "(78.0, 94.0]      24\n",
       "(29.935, 46.0]     6\n",
       "Name: count, dtype: int64"
      ]
     },
     "execution_count": 91,
     "metadata": {},
     "output_type": "execute_result"
    }
   ],
   "source": [
    "# bins - it creates groups and it only works with numerical data\n",
    "richest = pd.read_csv('TopRichestInWorld.csv', usecols=['Age']).squeeze()\n",
    "richest.value_counts(bins=4)"
   ]
  },
  {
   "cell_type": "markdown",
   "id": "efe7e124",
   "metadata": {},
   "source": [
    "### Accessing elements via positions"
   ]
  },
  {
   "cell_type": "code",
   "execution_count": null,
   "id": "324bc552",
   "metadata": {},
   "outputs": [
    {
     "data": {
      "text/plain": [
       "0                   Elon Musk\n",
       "1                  Jeff Bezos\n",
       "2    Bernard Arnault & family\n",
       "3                  Bill Gates\n",
       "4              Warren Buffett\n",
       "5                  Larry Page\n",
       "6                 Sergey Brin\n",
       "7               Larry Ellison\n",
       "8               Steve Ballmer\n",
       "9               Mukesh Ambani\n",
       "Name: Name, dtype: object"
      ]
     },
     "execution_count": 98,
     "metadata": {},
     "output_type": "execute_result"
    }
   ],
   "source": [
    "richest = pd.read_csv('TopRichestInWorld.csv', usecols=['Name']).squeeze()\n",
    "richest.head(10)   # Get the first 10 elements"
   ]
  },
  {
   "cell_type": "code",
   "execution_count": null,
   "id": "eb861f43",
   "metadata": {},
   "outputs": [
    {
     "data": {
      "text/plain": [
       "'Elon Musk'"
      ]
     },
     "execution_count": 97,
     "metadata": {},
     "output_type": "execute_result"
    }
   ],
   "source": [
    "richest[0]     # accessing an element via its exact position"
   ]
  },
  {
   "cell_type": "code",
   "execution_count": null,
   "id": "c116a0f0",
   "metadata": {},
   "outputs": [
    {
     "data": {
      "text/plain": [
       "1                   Jeff Bezos\n",
       "2     Bernard Arnault & family\n",
       "10       Gautam Adani & family\n",
       "Name: Name, dtype: object"
      ]
     },
     "execution_count": 101,
     "metadata": {},
     "output_type": "execute_result"
    }
   ],
   "source": [
    "richest[[1, 2, 10]]  # Accessing a multiple elements with a list of positions"
   ]
  },
  {
   "cell_type": "code",
   "execution_count": null,
   "id": "c40c1b78",
   "metadata": {},
   "outputs": [
    {
     "data": {
      "text/plain": [
       "5       Larry Page\n",
       "6      Sergey Brin\n",
       "7    Larry Ellison\n",
       "8    Steve Ballmer\n",
       "9    Mukesh Ambani\n",
       "Name: Name, dtype: object"
      ]
     },
     "execution_count": 102,
     "metadata": {},
     "output_type": "execute_result"
    }
   ],
   "source": [
    "richest[5:10]  # Indexing via slicing"
   ]
  },
  {
   "cell_type": "code",
   "execution_count": null,
   "id": "7cf8ad9e",
   "metadata": {},
   "outputs": [
    {
     "data": {
      "text/plain": [
       "0                     Elon Musk\n",
       "4                Warren Buffett\n",
       "8                 Steve Ballmer\n",
       "12    Carlos Slim Helu & family\n",
       "16               Zhong Shanshan\n",
       "20                 Charles Koch\n",
       "Name: Name, dtype: object"
      ]
     },
     "execution_count": 103,
     "metadata": {},
     "output_type": "execute_result"
    }
   ],
   "source": [
    "richest[0:21:4]    # Indexing via slicing with a step"
   ]
  },
  {
   "cell_type": "code",
   "execution_count": null,
   "id": "ca8fc395",
   "metadata": {},
   "outputs": [
    {
     "data": {
      "text/plain": [
       "0                   Elon Musk\n",
       "1                  Jeff Bezos\n",
       "2    Bernard Arnault & family\n",
       "3                  Bill Gates\n",
       "4              Warren Buffett\n",
       "5                  Larry Page\n",
       "6                 Sergey Brin\n",
       "7               Larry Ellison\n",
       "8               Steve Ballmer\n",
       "9               Mukesh Ambani\n",
       "Name: Name, dtype: object"
      ]
     },
     "execution_count": 104,
     "metadata": {},
     "output_type": "execute_result"
    }
   ],
   "source": [
    "richest[:10]      # Accessing everything until 10 (excluded)"
   ]
  },
  {
   "cell_type": "code",
   "execution_count": 106,
   "id": "46b21437",
   "metadata": {},
   "outputs": [
    {
     "data": {
      "text/plain": [
       "100    Peter Woo\n",
       "Name: Name, dtype: object"
      ]
     },
     "execution_count": 106,
     "metadata": {},
     "output_type": "execute_result"
    }
   ],
   "source": [
    "richest[-1:] # Will not raise an exception"
   ]
  },
  {
   "cell_type": "code",
   "execution_count": 108,
   "id": "feb62782",
   "metadata": {},
   "outputs": [
    {
     "data": {
      "text/plain": [
       "RangeIndex(start=0, stop=101, step=1)"
      ]
     },
     "execution_count": 108,
     "metadata": {},
     "output_type": "execute_result"
    }
   ],
   "source": [
    "richest.index"
   ]
  },
  {
   "cell_type": "markdown",
   "id": "f41f278f",
   "metadata": {},
   "source": [
    "### Accessing elements via index"
   ]
  },
  {
   "cell_type": "code",
   "execution_count": 33,
   "id": "4c22472d",
   "metadata": {},
   "outputs": [
    {
     "name": "stdout",
     "output_type": "stream",
     "text": [
      "Name\n",
      "Elon Musk                   $219,000,000,000\n",
      "Jeff Bezos                  $171,000,000,000\n",
      "Bernard Arnault & family    $158,000,000,000\n",
      "Bill Gates                  $129,000,000,000\n",
      "Warren Buffett              $118,000,000,000\n",
      "                                  ...       \n",
      "Vladimir Potanin             $17,300,000,000\n",
      "Harold Hamm & family         $17,200,000,000\n",
      "Sun Piaoyang                 $17,100,000,000\n",
      "Luo Liguo & family           $17,000,000,000\n",
      "Peter Woo                    $17,000,000,000\n",
      "Name: NetWorth, Length: 101, dtype: object\n"
     ]
    }
   ],
   "source": [
    "richest = pd.read_csv('TopRichestInWorld.csv', usecols=['Name', 'NetWorth'], index_col=['Name']).squeeze()\n",
    "print(richest)"
   ]
  },
  {
   "cell_type": "code",
   "execution_count": 115,
   "id": "4a1a0341",
   "metadata": {},
   "outputs": [
    {
     "data": {
      "text/plain": [
       "Name\n",
       "Elon Musk                   $219,000,000,000\n",
       "Jeff Bezos                  $171,000,000,000\n",
       "Bernard Arnault & family    $158,000,000,000\n",
       "Bill Gates                  $129,000,000,000\n",
       "Warren Buffett              $118,000,000,000\n",
       "Larry Page                  $111,000,000,000\n",
       "Sergey Brin                 $107,000,000,000\n",
       "Larry Ellison               $106,000,000,000\n",
       "Steve Ballmer                $91,400,000,000\n",
       "Mukesh Ambani                $90,700,000,000\n",
       "Name: NetWorth, dtype: object"
      ]
     },
     "execution_count": 115,
     "metadata": {},
     "output_type": "execute_result"
    }
   ],
   "source": [
    "richest.head(10)"
   ]
  },
  {
   "cell_type": "code",
   "execution_count": 116,
   "id": "cfa7a855",
   "metadata": {},
   "outputs": [
    {
     "data": {
      "text/plain": [
       "'$129,000,000,000'"
      ]
     },
     "execution_count": 116,
     "metadata": {},
     "output_type": "execute_result"
    }
   ],
   "source": [
    "richest[\"Bill Gates\"]"
   ]
  },
  {
   "cell_type": "code",
   "execution_count": 118,
   "id": "ff34374f",
   "metadata": {},
   "outputs": [
    {
     "data": {
      "text/plain": [
       "Name\n",
       "Elon Musk         $219,000,000,000\n",
       "Warren Buffett    $118,000,000,000\n",
       "Mukesh Ambani      $90,700,000,000\n",
       "Name: NetWorth, dtype: object"
      ]
     },
     "execution_count": 118,
     "metadata": {},
     "output_type": "execute_result"
    }
   ],
   "source": [
    "richest[['Elon Musk', 'Warren Buffett', 'Mukesh Ambani']]"
   ]
  },
  {
   "cell_type": "code",
   "execution_count": null,
   "id": "d9770b4f",
   "metadata": {},
   "outputs": [
    {
     "data": {
      "text/plain": [
       "Name\n",
       "Bill Gates        $129,000,000,000\n",
       "Warren Buffett    $118,000,000,000\n",
       "Larry Page        $111,000,000,000\n",
       "Sergey Brin       $107,000,000,000\n",
       "Larry Ellison     $106,000,000,000\n",
       "Steve Ballmer      $91,400,000,000\n",
       "Mukesh Ambani      $90,700,000,000\n",
       "Name: NetWorth, dtype: object"
      ]
     },
     "execution_count": 119,
     "metadata": {},
     "output_type": "execute_result"
    }
   ],
   "source": [
    "richest['Bill Gates':'Mukesh Ambani'] "
   ]
  },
  {
   "cell_type": "code",
   "execution_count": 120,
   "id": "8049eb5b",
   "metadata": {},
   "outputs": [
    {
     "data": {
      "text/plain": [
       "Name\n",
       "Elon Musk     $219,000,000,000\n",
       "Jeff Bezos    $171,000,000,000\n",
       "Name: NetWorth, dtype: object"
      ]
     },
     "execution_count": 120,
     "metadata": {},
     "output_type": "execute_result"
    }
   ],
   "source": [
    "richest[0:2]"
   ]
  },
  {
   "cell_type": "code",
   "execution_count": 4,
   "id": "2eb6eabc",
   "metadata": {},
   "outputs": [
    {
     "data": {
      "text/plain": [
       "RangeIndex(start=0, stop=101, step=1)"
      ]
     },
     "execution_count": 4,
     "metadata": {},
     "output_type": "execute_result"
    }
   ],
   "source": [
    "richest.index"
   ]
  },
  {
   "cell_type": "code",
   "execution_count": null,
   "id": "eb14b19b",
   "metadata": {},
   "outputs": [],
   "source": []
  }
 ],
 "metadata": {
  "kernelspec": {
   "display_name": "venv",
   "language": "python",
   "name": "python3"
  },
  "language_info": {
   "codemirror_mode": {
    "name": "ipython",
    "version": 3
   },
   "file_extension": ".py",
   "mimetype": "text/x-python",
   "name": "python",
   "nbconvert_exporter": "python",
   "pygments_lexer": "ipython3",
   "version": "3.12.5"
  }
 },
 "nbformat": 4,
 "nbformat_minor": 5
}
