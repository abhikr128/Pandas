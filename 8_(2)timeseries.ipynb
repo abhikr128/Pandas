{
 "cells": [
  {
   "cell_type": "markdown",
   "id": "ff8fff8c",
   "metadata": {},
   "source": [
    "## Timedelta and TimedeltaIndex"
   ]
  },
  {
   "cell_type": "markdown",
   "id": "f6dbb80a",
   "metadata": {},
   "source": [
    "#### Timedelta()\n",
    "- if you've ever watched F1 or practically any racing show, you'll be quite familiar with the concept of delta time, i.e, the time it took to complete a certain section of a race track. And to put it in non racing terms, it's the time between two timestamps."
   ]
  },
  {
   "cell_type": "code",
   "execution_count": 1,
   "id": "43a8d1d4",
   "metadata": {},
   "outputs": [],
   "source": [
    "import pandas as pd"
   ]
  },
  {
   "cell_type": "code",
   "execution_count": null,
   "id": "2ec403f6",
   "metadata": {},
   "outputs": [
    {
     "data": {
      "text/plain": [
       "Timedelta('0 days 00:02:00')"
      ]
     },
     "execution_count": 2,
     "metadata": {},
     "output_type": "execute_result"
    }
   ],
   "source": [
    "start_time = pd.Timestamp('2025.01.01  00:00')\n",
    "end_time = pd.Timestamp('2025.01.01  00:02')\n",
    "\n",
    "# difference between two timestamps\n",
    "elapsed_time = end_time - start_time\n",
    "elapsed_time                            # Will return a time delta object"
   ]
  },
  {
   "cell_type": "markdown",
   "id": "98a19361",
   "metadata": {},
   "source": [
    "#### to_timedelta()"
   ]
  },
  {
   "cell_type": "code",
   "execution_count": null,
   "id": "843e2724",
   "metadata": {},
   "outputs": [
    {
     "name": "stdout",
     "output_type": "stream",
     "text": [
      "1 days 02:00:20\n",
      "2 days 00:00:00\n",
      "2 days 04:30:20\n",
      "1 days 02:30:20\n",
      "9 days 00:00:00\n",
      "TimedeltaIndex(['1 days 02:00:20', '2 days 00:00:00', '0 days 01:00:30'], dtype='timedelta64[ns]', freq=None)\n"
     ]
    }
   ],
   "source": [
    "def display_timedelta(text:str):\n",
    "    print(pd.to_timedelta(text))\n",
    "\n",
    "# It's quite flexible withy the inputs\n",
    "display_timedelta('1d 2h 20s')    \n",
    "display_timedelta('2 days')    \n",
    "display_timedelta('2 days 4 hours 30 minutes 20 seconds')    \n",
    "display_timedelta('1d 2h 30m 20s')    \n",
    "display_timedelta('1W 2D')    \n",
    "display_timedelta(['1d 2h 20s', '2 days', '1 hour 30 seconds'])    "
   ]
  },
  {
   "cell_type": "code",
   "execution_count": 9,
   "id": "de5ea22b",
   "metadata": {},
   "outputs": [
    {
     "data": {
      "text/plain": [
       "TimedeltaIndex(['0 days 00:02:00', NaT], dtype='timedelta64[ns]', freq=None)"
      ]
     },
     "execution_count": 9,
     "metadata": {},
     "output_type": "execute_result"
    }
   ],
   "source": [
    "pd.to_timedelta(['2 min', 'pikachu'], errors='coerce')     # Handling errors"
   ]
  },
  {
   "cell_type": "markdown",
   "id": "4aaa4db1",
   "metadata": {},
   "source": [
    "#### timedelta_range()"
   ]
  },
  {
   "cell_type": "code",
   "execution_count": 10,
   "id": "981010de",
   "metadata": {},
   "outputs": [
    {
     "data": {
      "text/plain": [
       "TimedeltaIndex(['1 days', '2 days', '3 days'], dtype='timedelta64[ns]', freq='D')"
      ]
     },
     "execution_count": 10,
     "metadata": {},
     "output_type": "execute_result"
    }
   ],
   "source": [
    "pd.timedelta_range(start='1 day', periods=3)"
   ]
  },
  {
   "cell_type": "markdown",
   "id": "9ec9f1a1",
   "metadata": {},
   "source": [
    "#### Using ```closed``` to exclude first or last element"
   ]
  },
  {
   "cell_type": "code",
   "execution_count": null,
   "id": "9cef458b",
   "metadata": {},
   "outputs": [
    {
     "data": {
      "text/plain": [
       "TimedeltaIndex(['1 days', '2 days'], dtype='timedelta64[ns]', freq='D')"
      ]
     },
     "execution_count": 11,
     "metadata": {},
     "output_type": "execute_result"
    }
   ],
   "source": [
    "pd.timedelta_range(start='1D', periods=3, closed='left')"
   ]
  },
  {
   "cell_type": "code",
   "execution_count": null,
   "id": "2746d6d6",
   "metadata": {},
   "outputs": [
    {
     "data": {
      "text/plain": [
       "TimedeltaIndex(['2 days', '3 days'], dtype='timedelta64[ns]', freq='D')"
      ]
     },
     "execution_count": 12,
     "metadata": {},
     "output_type": "execute_result"
    }
   ],
   "source": [
    "pd.timedelta_range(start='1D', periods=3, closed='right')"
   ]
  },
  {
   "cell_type": "code",
   "execution_count": null,
   "id": "6e573ec7",
   "metadata": {},
   "outputs": [
    {
     "data": {
      "text/plain": [
       "TimedeltaIndex(['1 days 00:00:00', '1 days 02:00:00', '1 days 04:00:00'], dtype='timedelta64[ns]', freq='2h')"
      ]
     },
     "execution_count": 13,
     "metadata": {},
     "output_type": "execute_result"
    }
   ],
   "source": [
    "# we can also use freq to define frequency\n",
    "pd.timedelta_range(start='1d', periods=3, freq='2h')"
   ]
  },
  {
   "cell_type": "markdown",
   "id": "c020e804",
   "metadata": {},
   "source": [
    "##### Using ```period``` with ```end``` will split the time evbenly with timedeltas"
   ]
  },
  {
   "cell_type": "code",
   "execution_count": 14,
   "id": "a0773139",
   "metadata": {},
   "outputs": [
    {
     "data": {
      "text/plain": [
       "TimedeltaIndex(['1 days 00:00:00', '5 days 12:00:00', '10 days 00:00:00'], dtype='timedelta64[ns]', freq=None)"
      ]
     },
     "execution_count": 14,
     "metadata": {},
     "output_type": "execute_result"
    }
   ],
   "source": [
    "pd.timedelta_range(start='1d', end='10d', periods=3)"
   ]
  },
  {
   "cell_type": "markdown",
   "id": "2f84ee0d",
   "metadata": {},
   "source": [
    "## Accessing time attributes through .dt\n",
    "- .dt allows to access our datetime objects in series or dataframes."
   ]
  },
  {
   "cell_type": "code",
   "execution_count": 15,
   "id": "6b609745",
   "metadata": {},
   "outputs": [
    {
     "data": {
      "text/plain": [
       "DatetimeIndex(['2025-01-01', '2025-01-02', '2025-01-03', '2025-01-04',\n",
       "               '2025-01-05', '2025-01-06', '2025-01-07'],\n",
       "              dtype='datetime64[ns]', freq='D')"
      ]
     },
     "execution_count": 15,
     "metadata": {},
     "output_type": "execute_result"
    }
   ],
   "source": [
    "one_week = pd.date_range(start='2025.01.01', end='2025.01.07')\n",
    "one_week"
   ]
  },
  {
   "cell_type": "code",
   "execution_count": 16,
   "id": "78a8fb8f",
   "metadata": {},
   "outputs": [
    {
     "data": {
      "text/html": [
       "<div>\n",
       "<style scoped>\n",
       "    .dataframe tbody tr th:only-of-type {\n",
       "        vertical-align: middle;\n",
       "    }\n",
       "\n",
       "    .dataframe tbody tr th {\n",
       "        vertical-align: top;\n",
       "    }\n",
       "\n",
       "    .dataframe thead th {\n",
       "        text-align: right;\n",
       "    }\n",
       "</style>\n",
       "<table border=\"1\" class=\"dataframe\">\n",
       "  <thead>\n",
       "    <tr style=\"text-align: right;\">\n",
       "      <th></th>\n",
       "      <th>Dates</th>\n",
       "    </tr>\n",
       "  </thead>\n",
       "  <tbody>\n",
       "    <tr>\n",
       "      <th>0</th>\n",
       "      <td>2025-01-01</td>\n",
       "    </tr>\n",
       "    <tr>\n",
       "      <th>1</th>\n",
       "      <td>2025-01-02</td>\n",
       "    </tr>\n",
       "    <tr>\n",
       "      <th>2</th>\n",
       "      <td>2025-01-03</td>\n",
       "    </tr>\n",
       "    <tr>\n",
       "      <th>3</th>\n",
       "      <td>2025-01-04</td>\n",
       "    </tr>\n",
       "    <tr>\n",
       "      <th>4</th>\n",
       "      <td>2025-01-05</td>\n",
       "    </tr>\n",
       "    <tr>\n",
       "      <th>5</th>\n",
       "      <td>2025-01-06</td>\n",
       "    </tr>\n",
       "    <tr>\n",
       "      <th>6</th>\n",
       "      <td>2025-01-07</td>\n",
       "    </tr>\n",
       "  </tbody>\n",
       "</table>\n",
       "</div>"
      ],
      "text/plain": [
       "       Dates\n",
       "0 2025-01-01\n",
       "1 2025-01-02\n",
       "2 2025-01-03\n",
       "3 2025-01-04\n",
       "4 2025-01-05\n",
       "5 2025-01-06\n",
       "6 2025-01-07"
      ]
     },
     "execution_count": 16,
     "metadata": {},
     "output_type": "execute_result"
    }
   ],
   "source": [
    "# Creating a series with datetime object\n",
    "one_week_df = pd.Series(one_week).to_frame(name='Dates')\n",
    "one_week_df"
   ]
  },
  {
   "cell_type": "markdown",
   "id": "29a3639c",
   "metadata": {},
   "source": [
    "#### We can now use all the attributes related to datetime objects on these elements via .dt"
   ]
  },
  {
   "cell_type": "code",
   "execution_count": 17,
   "id": "7dbd8251",
   "metadata": {},
   "outputs": [
    {
     "data": {
      "text/plain": [
       "0    1\n",
       "1    2\n",
       "2    3\n",
       "3    4\n",
       "4    5\n",
       "5    6\n",
       "6    7\n",
       "Name: Dates, dtype: int32"
      ]
     },
     "execution_count": 17,
     "metadata": {},
     "output_type": "execute_result"
    }
   ],
   "source": [
    "one_week_df['Dates'].dt.day"
   ]
  },
  {
   "cell_type": "code",
   "execution_count": 18,
   "id": "9051b232",
   "metadata": {},
   "outputs": [
    {
     "data": {
      "text/plain": [
       "0    1\n",
       "1    1\n",
       "2    1\n",
       "3    1\n",
       "4    1\n",
       "5    1\n",
       "6    1\n",
       "Name: Dates, dtype: int32"
      ]
     },
     "execution_count": 18,
     "metadata": {},
     "output_type": "execute_result"
    }
   ],
   "source": [
    "one_week_df['Dates'].dt.month"
   ]
  },
  {
   "cell_type": "code",
   "execution_count": 19,
   "id": "bca91950",
   "metadata": {},
   "outputs": [
    {
     "data": {
      "text/plain": [
       "0    2025\n",
       "1    2025\n",
       "2    2025\n",
       "3    2025\n",
       "4    2025\n",
       "5    2025\n",
       "6    2025\n",
       "Name: Dates, dtype: int32"
      ]
     },
     "execution_count": 19,
     "metadata": {},
     "output_type": "execute_result"
    }
   ],
   "source": [
    "one_week_df['Dates'].dt.year"
   ]
  },
  {
   "cell_type": "code",
   "execution_count": 21,
   "id": "71c7cd5b",
   "metadata": {},
   "outputs": [
    {
     "data": {
      "text/plain": [
       "0    Wednesday\n",
       "1     Thursday\n",
       "2       Friday\n",
       "3     Saturday\n",
       "4       Sunday\n",
       "5       Monday\n",
       "6      Tuesday\n",
       "Name: Dates, dtype: object"
      ]
     },
     "execution_count": 21,
     "metadata": {},
     "output_type": "execute_result"
    }
   ],
   "source": [
    "one_week_df['Dates'].dt.day_name()"
   ]
  },
  {
   "cell_type": "code",
   "execution_count": 22,
   "id": "b1e137a1",
   "metadata": {},
   "outputs": [
    {
     "data": {
      "text/plain": [
       "0    2025-01-01\n",
       "1    2025-01-02\n",
       "2    2025-01-03\n",
       "3    2025-01-04\n",
       "4    2025-01-05\n",
       "5    2025-01-06\n",
       "6    2025-01-07\n",
       "Name: Dates, dtype: period[D]"
      ]
     },
     "execution_count": 22,
     "metadata": {},
     "output_type": "execute_result"
    }
   ],
   "source": [
    "one_week_df['Dates'].dt.to_period()"
   ]
  },
  {
   "cell_type": "code",
   "execution_count": null,
   "id": "5d9de50b",
   "metadata": {},
   "outputs": [],
   "source": []
  }
 ],
 "metadata": {
  "kernelspec": {
   "display_name": "venv",
   "language": "python",
   "name": "python3"
  },
  "language_info": {
   "codemirror_mode": {
    "name": "ipython",
    "version": 3
   },
   "file_extension": ".py",
   "mimetype": "text/x-python",
   "name": "python",
   "nbconvert_exporter": "python",
   "pygments_lexer": "ipython3",
   "version": "3.12.5"
  }
 },
 "nbformat": 4,
 "nbformat_minor": 5
}
